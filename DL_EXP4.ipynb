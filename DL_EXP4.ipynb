{
  "nbformat": 4,
  "nbformat_minor": 0,
  "metadata": {
    "colab": {
      "provenance": []
    },
    "kernelspec": {
      "name": "python3",
      "display_name": "Python 3"
    },
    "language_info": {
      "name": "python"
    }
  },
  "cells": [
    {
      "cell_type": "code",
      "execution_count": 1,
      "metadata": {
        "id": "04XAr6py0_B4"
      },
      "outputs": [],
      "source": [
        "import numpy as np\n"
      ]
    },
    {
      "cell_type": "code",
      "source": [
        "def sigmoid(x):\n",
        "    return 1 / (1 + np.exp(-x))"
      ],
      "metadata": {
        "id": "S_DE01I81BO_"
      },
      "execution_count": 2,
      "outputs": []
    },
    {
      "cell_type": "code",
      "source": [
        "def sigmoid_derivative(x):\n",
        "    return x * (1 - x)"
      ],
      "metadata": {
        "id": "HjY96Kg81ET-"
      },
      "execution_count": 3,
      "outputs": []
    },
    {
      "cell_type": "code",
      "source": [
        "inputs = np.array([[0, 0], [0, 1], [1, 0], [1, 1]])\n",
        "labels = np.array([[0], [1], [1], [0]])\n"
      ],
      "metadata": {
        "id": "UywH05xJ1HRu"
      },
      "execution_count": 4,
      "outputs": []
    },
    {
      "cell_type": "code",
      "source": [
        "input_size = 2\n",
        "hidden_size = 2\n",
        "output_size = 1\n",
        "\n",
        "# Initialize random weights and biases\n",
        "weights_input_hidden = np.random.uniform(-1, 1, (input_size, hidden_size))\n",
        "bias_hidden = np.zeros((1, hidden_size))\n",
        "weights_hidden_output = np.random.uniform(-1, 1, (hidden_size, output_size))\n",
        "bias_output = np.zeros((1, output_size))\n",
        "\n",
        "# Training parameters\n",
        "learning_rate = 0.1\n",
        "epochs = 10000\n",
        "\n",
        "# Training loop\n",
        "for _ in range(epochs):\n",
        "    # Forward pass\n",
        "    hidden_activation = sigmoid(np.dot(inputs, weights_input_hidden) + bias_hidden)\n",
        "    output = sigmoid(np.dot(hidden_activation, weights_hidden_output) + bias_output)\n",
        "\n",
        "    # Backpropagation\n",
        "    output_error = labels - output\n",
        "    output_delta = output_error * sigmoid_derivative(output)\n",
        "\n",
        "    hidden_error = output_delta.dot(weights_hidden_output.T)\n",
        "    hidden_delta = hidden_error * sigmoid_derivative(hidden_activation)\n",
        "\n",
        "    # Update weights and biases\n",
        "    weights_hidden_output += hidden_activation.T.dot(output_delta) * learning_rate\n",
        "    bias_output += np.sum(output_delta, axis=0, keepdims=True) * learning_rate\n",
        "    weights_input_hidden += inputs.T.dot(hidden_delta) * learning_rate\n",
        "    bias_hidden += np.sum(hidden_delta, axis=0, keepdims=True) * learning_rate"
      ],
      "metadata": {
        "id": "-lis3ysJ1KQu"
      },
      "execution_count": 5,
      "outputs": []
    },
    {
      "cell_type": "code",
      "source": [
        "for i in range(len(inputs)):\n",
        "    predicted = sigmoid(np.dot(sigmoid(np.dot(inputs[i], weights_input_hidden) + bias_hidden), weights_hidden_output) + bias_output)\n",
        "    binary_predicted = (predicted >= 0.5).astype(int) #Applying threshold for binary prediction\n",
        "    print(f\"Input: {inputs[i]}, Predicted: {binary_predicted[0][0]}, Actual: {labels[i][0]}\")\n"
      ],
      "metadata": {
        "colab": {
          "base_uri": "https://localhost:8080/"
        },
        "id": "fqOOc7mY1Obe",
        "outputId": "df521989-ee46-415b-d830-088a85333899"
      },
      "execution_count": 7,
      "outputs": [
        {
          "output_type": "stream",
          "name": "stdout",
          "text": [
            "Input: [0 0], Predicted: 0, Actual: 0\n",
            "Input: [0 1], Predicted: 1, Actual: 1\n",
            "Input: [1 0], Predicted: 1, Actual: 1\n",
            "Input: [1 1], Predicted: 0, Actual: 0\n"
          ]
        }
      ]
    },
    {
      "cell_type": "code",
      "source": [],
      "metadata": {
        "id": "MiXic2QL1SJd"
      },
      "execution_count": null,
      "outputs": []
    }
  ]
}