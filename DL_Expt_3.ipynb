{
  "nbformat": 4,
  "nbformat_minor": 0,
  "metadata": {
    "colab": {
      "provenance": []
    },
    "kernelspec": {
      "name": "python3",
      "display_name": "Python 3"
    },
    "language_info": {
      "name": "python"
    }
  },
  "cells": [
    {
      "cell_type": "code",
      "execution_count": 1,
      "metadata": {
        "id": "IntD4DWdJIDw"
      },
      "outputs": [],
      "source": [
        "#Apply any of the following learning algorithms to learn the parameters of the supervised single layer feed forward neural network.\n",
        "#a. Stochastic Gradient Descent\n",
        "#b. Mini Batch Gradient Descent\n",
        "#c. Momentum GD\n",
        "#d. Nestorev GD\n",
        "#e. Adagrad GD\n",
        "#f. Adam Learning GD"
      ]
    },
    {
      "cell_type": "code",
      "source": [
        "import numpy as np"
      ],
      "metadata": {
        "id": "tmGU6qykJ1Fq"
      },
      "execution_count": 2,
      "outputs": []
    },
    {
      "cell_type": "code",
      "source": [
        "def sigmoid(x):\n",
        "  return 1/(1+np.exp(-x))"
      ],
      "metadata": {
        "id": "NihZku5QL58_"
      },
      "execution_count": 3,
      "outputs": []
    },
    {
      "cell_type": "code",
      "source": [
        "def single_layer_neural_network(X,W,b):\n",
        "  return sigmoid(np.dot(X,W)+b)"
      ],
      "metadata": {
        "id": "ATXlgE6YMJ39"
      },
      "execution_count": 4,
      "outputs": []
    },
    {
      "cell_type": "code",
      "source": [
        "def SGD(X,y,learning_rate=0.01,epochs=100):\n",
        "  num_samples, num_features = X.shape\n",
        "  W = np.random.randn(num_features, 1)\n",
        "  b = np.random.randn()\n",
        "\n",
        "  for epoch in range(epochs):\n",
        "    for i in range(num_samples):\n",
        "      xi = X[i].reshape(-1,1)\n",
        "      yi = y[i]\n",
        "\n",
        "      z = np.dot(xi.T,W) + b\n",
        "      a = sigmoid(z)\n",
        "\n",
        "      #Calculate gradients\n",
        "      dW = xi * (a-yi)\n",
        "      db = a - yi\n",
        "\n",
        "      #Update weights and bias\n",
        "      W -= learning_rate * dW\n",
        "      b -= learning_rate * db\n",
        "\n",
        "  return W,b"
      ],
      "metadata": {
        "id": "TEqnvdmMMd2v"
      },
      "execution_count": 5,
      "outputs": []
    },
    {
      "cell_type": "code",
      "source": [
        "X_train = np.array([[0,0],[0,1],[1,0],[1,1]])\n",
        "y_train = np.array([0,1,1,0])\n",
        "W_optimal, b_optimal = SGD(X_train,y_train)"
      ],
      "metadata": {
        "id": "ksqhQTBPPOui"
      },
      "execution_count": 7,
      "outputs": []
    },
    {
      "cell_type": "code",
      "source": [
        "print(\"Optimal weights: \",W_optimal)\n",
        "print(\"Optimal bias: \",b_optimal)"
      ],
      "metadata": {
        "colab": {
          "base_uri": "https://localhost:8080/"
        },
        "id": "SBixxcFbP7xB",
        "outputId": "b1c550d3-4c7e-4032-a11f-3940287e1301"
      },
      "execution_count": 8,
      "outputs": [
        {
          "output_type": "stream",
          "name": "stdout",
          "text": [
            "Optimal weights:  [[-0.23130034]\n",
            " [-0.1179155 ]]\n",
            "Optimal bias:  [[0.36455622]]\n"
          ]
        }
      ]
    },
    {
      "cell_type": "code",
      "source": [],
      "metadata": {
        "id": "2jf2f4FtQOw_"
      },
      "execution_count": 8,
      "outputs": []
    }
  ]
}